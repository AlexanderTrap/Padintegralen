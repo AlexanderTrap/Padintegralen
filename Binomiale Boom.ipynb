{
 "cells": [
  {
   "cell_type": "markdown",
   "metadata": {},
   "source": [
    "# Optieprijzen, Taak 1"
   ]
  },
  {
   "cell_type": "code",
   "execution_count": 1,
   "metadata": {},
   "outputs": [],
   "source": [
    "import numpy as np\n",
    "import matplotlib.pyplot as plt\n",
    "import itertools"
   ]
  },
  {
   "cell_type": "markdown",
   "metadata": {},
   "source": [
    "In dit werk bereken we numeriek een optieprijs op basis van de waarde van het onderliggende $S_0$ , de strike $K$, een waarde voor de volatiliteit $\\sigma$ , de 'rente' $r$ en het aantal stapjes op de binominale boom $N$."
   ]
  },
  {
   "cell_type": "markdown",
   "metadata": {},
   "source": [
    "### Programma 1: Eindige Discretiesatie Methode"
   ]
  },
  {
   "cell_type": "markdown",
   "metadata": {},
   "source": [
    "De volgende functie gebruiken we om van een vector met lengte $n$ een stapje terug te zetten op de binominale boom naar een vector met lengte $n-1$. In deze vector is $v[i]$ gelijk aan de 'grootste waarde' van de optie op de boom."
   ]
  },
  {
   "cell_type": "code",
   "execution_count": 2,
   "metadata": {},
   "outputs": [],
   "source": [
    "def stapje_terug(u,d,p,r,dt,V):\n",
    "    # neemt de laatst berekende eindvector met lengte n en geeft een vector terug met lengte n-1\n",
    "    n=np.size(V)-1\n",
    "    v=np.zeros(n)\n",
    "    for i in range(n):\n",
    "        v[i]=(p*V[i]+(1-p)*V[i+1])*np.exp(-r*dt)\n",
    "    return v"
   ]
  },
  {
   "cell_type": "code",
   "execution_count": 3,
   "metadata": {},
   "outputs": [],
   "source": [
    "def barriere_optieprijs(optie, S0, B, kind, u, d):\n",
    "    #indien die prijs vh onderliggende op een moment t groter/kleiner is dan 0 wordt de optieprijs 0\n",
    "    n_t=len(optie)   \n",
    "    for i in range(len(optie)):\n",
    "        S_t= S0*d**i *u**(n_t-i-1)\n",
    "        if kind== 'call':\n",
    "            if S_t>B:\n",
    "                optie[i]=0\n",
    "        elif kind == 'put':\n",
    "            if S_t<B:\n",
    "                optie[i]=0"
   ]
  },
  {
   "cell_type": "markdown",
   "metadata": {},
   "source": [
    "De volgende functie berekent de waarde van de optie op t=0 adhv één functie voor zowel met als zonder barriëre. door barriëre True of False te geven kiezen we dit.\n",
    "We kunnen ook array_out een bool geven en zo vinden we oa de binominale boom terug.\n",
    "Met kind bedoelen we de string 'put' of 'call'"
   ]
  },
  {
   "cell_type": "code",
   "execution_count": 4,
   "metadata": {},
   "outputs": [],
   "source": [
    "def discretisatie(N, T, S0, K, r, sigma, kind,  barrier, B, array_out):\n",
    "    dt=T/N\n",
    "    dx=sigma*np.sqrt(dt)\n",
    "    \n",
    "    u=np.exp(dx)\n",
    "    d=np.exp(-dx)\n",
    "    \n",
    "    p= (np.exp(r*dt)-d)/(u-d)\n",
    "    \n",
    "    #onderliggende prijs op tn\n",
    "    eindprijs=np.zeros(N+1) \n",
    "    for i in range(N+1):\n",
    "        eindprijs[i]=S0*(d**(i))*(u**(N-i))\n",
    "        \n",
    "    #optieprijs op tN\n",
    "    if kind=='call':\n",
    "        if barrier ==  True:           \n",
    "            eindprijs=np.array([0 if prijs > B else prijs for prijs in eindprijs])\n",
    "            optieprijs=np.maximum(eindprijs-K,0)\n",
    "        else:\n",
    "            optieprijs=np.maximum(eindprijs-K,0)\n",
    "    elif kind=='put':\n",
    "        if barrier ==  True:           \n",
    "            optieprijs=np.array([K-prijs if B<prijs<K else 0 for prijs in eindprijs])\n",
    "        else:\n",
    "            optieprijs=np.maximum(K-eindprijs,0)\n",
    "\n",
    "    #in stapjes verdisconteren, tegelijkertijd slaan we de tussenstapjes op in 'store'\n",
    "    \n",
    "    store=list([optieprijs])\n",
    "\n",
    "    while np.size(optieprijs)>1:\n",
    "        optieprijs=stapje_terug(u,d,p,r,dt,optieprijs)        \n",
    "        \n",
    "        if barrier ==  True:\n",
    "            barriere_optieprijs(optieprijs, S0, B, kind, u,d)\n",
    "    \n",
    "        store.append(list([optieprijs]))\n",
    "        \n",
    "    if array_out:\n",
    "        return [optieprijs[0],store, eindprijs]\n",
    "    else: \n",
    "        return optieprijs[0]"
   ]
  },
  {
   "cell_type": "code",
   "execution_count": 5,
   "metadata": {},
   "outputs": [
    {
     "data": {
      "text/plain": [
       "[0.4522469990083574,\n",
       " [array([0., 2., 0.]), [array([0.        , 0.96976102])], [array([0.452247])]],\n",
       " array([ 0.       , 50.       , 27.4405818])]"
      ]
     },
     "execution_count": 5,
     "metadata": {},
     "output_type": "execute_result"
    }
   ],
   "source": [
    "discretisatie(N=2, T=2, S0=50, K=48, r=0.05, sigma=0.3, kind='call', barrier=True, B=62, array_out=True)"
   ]
  },
  {
   "cell_type": "markdown",
   "metadata": {},
   "source": [
    "### Programma 2: Sommeren over paden"
   ]
  },
  {
   "cell_type": "markdown",
   "metadata": {},
   "source": [
    "Om het wat overzichtelijk te houden voor valuatie heb ik dit programma opgesplist in 2 programma's voor zonder of met barriëre."
   ]
  },
  {
   "cell_type": "code",
   "execution_count": 6,
   "metadata": {},
   "outputs": [],
   "source": [
    "def sum_paths(N, T, S0, K, r, sigma, kind):\n",
    "    dt=T/N\n",
    "    dx=sigma*np.sqrt(dt)\n",
    "    \n",
    "    u=np.exp(dx)\n",
    "    d=np.exp(-dx)\n",
    "    \n",
    "    p= (np.exp(r*dt)-d)/(u-d)\n",
    "    \n",
    "    #verschillende (binaire) paden\n",
    "    paths = itertools.product([0, 1], repeat=N)\n",
    "    \n",
    "    total_prob=0\n",
    "    V_T=0\n",
    "    \n",
    "    for path in paths:\n",
    "        N_up= path.count(1)\n",
    "        N_down= N-N_up\n",
    "        \n",
    "        path_prob=p**N_up*(1-p)**N_down\n",
    "        eind_prijs=S0*(d**N_down)*(u**N_up)\n",
    "        \n",
    "        #optieprijs op tn\n",
    "        if kind=='call':\n",
    "            optieprijs=np.maximum(eind_prijs-K,0)\n",
    "        elif kind=='put':\n",
    "            optieprijs=np.maximum(K-eind_prijs,0)\n",
    "\n",
    "        V_T+=optieprijs*path_prob\n",
    "        total_prob+=path_prob\n",
    "    \n",
    "    V_0=np.exp(-r*T)*V_T\n",
    "    \n",
    "    return V_0\n",
    "    "
   ]
  },
  {
   "cell_type": "code",
   "execution_count": 7,
   "metadata": {},
   "outputs": [
    {
     "data": {
      "text/plain": [
       "0.5168539556639589"
      ]
     },
     "execution_count": 7,
     "metadata": {},
     "output_type": "execute_result"
    }
   ],
   "source": [
    "sum_paths(N=5, T=10, S0=1, K=1.05, r=0.05, sigma=0.3, kind='call')"
   ]
  },
  {
   "cell_type": "code",
   "execution_count": 15,
   "metadata": {},
   "outputs": [],
   "source": [
    "def sum_paths_barriere(N, T, S0, K, r, sigma, kind, B,):\n",
    "    dt=T/N\n",
    "    dx=sigma*np.sqrt(dt)\n",
    "    \n",
    "    u=np.exp(dx)\n",
    "    d=np.exp(-dx)\n",
    "    \n",
    "    p= (np.exp(r*dt)-d)/(u-d)\n",
    "    \n",
    "    #verschillende (binaire) paden\n",
    "    paths = itertools.product([0, 1], repeat=N)\n",
    "    \n",
    "\n",
    "    V_T=0\n",
    "    \n",
    "    if kind == 'call':\n",
    "        for path in paths:\n",
    "            S_t=S0\n",
    "            i=0\n",
    "\n",
    "            #we overlopen elke stap in elk pad, elke step is ofwel 1 of 0 (up of down)\n",
    "            for step in path:\n",
    "                i+=1\n",
    "                S_t=S_t*u**step*d**(1-step)\n",
    "\n",
    "                # berekenen de prijs vh onderliggende op elk stapje in de tijd S_t \n",
    "                # en kijken of het groter/kleiner is dan de barriëre indien deze de barriëre overschrijdt op een stap \n",
    "                # dan kunnen we direct door naar het volgende pad in de lijst\n",
    "                if i<N:\n",
    "                    if S_t < B:\n",
    "                        continue\n",
    "                    else:\n",
    "                        break\n",
    "                else:\n",
    "                    eindprijs=0 if S_t > B else S_t\n",
    "                    if eindprijs !=0 :\n",
    "                        optieprijs=np.maximum(eindprijs-K,0)\n",
    "\n",
    "                        # elementen tellen uit een lijst is een 'lang' proces, daarom doen we dit alleen als \n",
    "                        # het pad daadwerkelijk meetelt\n",
    "\n",
    "                        N_up= path.count(1)\n",
    "                        N_down= N-N_up\n",
    "\n",
    "                        path_prob=p**N_up*(1-p)**N_down\n",
    "                        V_T+=optieprijs*path_prob\n",
    "    \n",
    "    else:\n",
    "        for path in paths:\n",
    "            S_t=S0\n",
    "            i=0\n",
    "            for step in path:\n",
    "                i+=1\n",
    "                #call\n",
    "                S_t=S_t*u**step*d**(1-step)                \n",
    "                if i<N:\n",
    "                    if S_t > B:\n",
    "                        continue\n",
    "                    else:\n",
    "                        break\n",
    "                else:\n",
    "                    optieprijs=K-S_t if B<S_t<K else 0\n",
    "\n",
    "                    N_up= path.count(1)\n",
    "                    N_down= N-N_up\n",
    "\n",
    "                    path_prob=p**N_up*(1-p)**N_down\n",
    "                    V_T+=optieprijs*path_prob        \n",
    "    \n",
    "    V_0=np.exp(-r*T)*V_T\n",
    "    \n",
    "    return V_0"
   ]
  },
  {
   "cell_type": "code",
   "execution_count": 17,
   "metadata": {
    "pixiedust": {
     "displayParams": {}
    }
   },
   "outputs": [
    {
     "data": {
      "text/plain": [
       "0.4522469990083574"
      ]
     },
     "execution_count": 17,
     "metadata": {},
     "output_type": "execute_result"
    }
   ],
   "source": [
    "sum_paths_barriere(N=2, T=2, S0=50, K=48 , r=0.05, sigma=0.3, kind='call', B=62)"
   ]
  },
  {
   "cell_type": "markdown",
   "metadata": {},
   "source": [
    "# Programma 3: Monte-Carlo Simulatie"
   ]
  },
  {
   "cell_type": "markdown",
   "metadata": {},
   "source": [
    "Voor lange numerieke berekeningen gebruiken we het package 'numba'. Hierdoor werkt het programma tot 50x sneller. In het vorige programma konden we niet gebruik maken van dit package vanwege het commando itertools, numba is niet compatibel met dit package. "
   ]
  },
  {
   "cell_type": "code",
   "execution_count": 18,
   "metadata": {},
   "outputs": [],
   "source": [
    "from numba import jit"
   ]
  },
  {
   "cell_type": "code",
   "execution_count": 19,
   "metadata": {},
   "outputs": [],
   "source": [
    "@jit(nopython=True)\n",
    "def monte_carlo(n, N, T, S0, K, r, sigma, kind):\n",
    "    dt=T/N\n",
    "    dx=sigma*np.sqrt(dt)\n",
    "    \n",
    "    u=np.exp(dx)\n",
    "    d=np.exp(-dx)\n",
    "    \n",
    "    p= (np.exp(r*dt)-d)/(u-d)\n",
    "    \n",
    "    x=0\n",
    "    totale_prijs=0\n",
    "    \n",
    "    while x<n:\n",
    "        \n",
    "        random_array=np.random.rand(N)\n",
    "        path=[1 if el <= p else 0 for el in random_array]\n",
    "        \n",
    "        N_up= path.count(1)\n",
    "        N_down= N-N_up\n",
    "        \n",
    "        eind_prijs=S0*(d**N_down)*(u**N_up)\n",
    "        \n",
    "        #optieprijs op tn\n",
    "        if kind=='call':\n",
    "            optieprijs=np.maximum(eind_prijs-K,0)\n",
    "        elif kind=='put':\n",
    "            optieprijs=np.maximum(K-eind_prijs,0)\n",
    "\n",
    "        \n",
    "        totale_prijs+=optieprijs\n",
    "        x+=1\n",
    "    \n",
    "    V_T=totale_prijs/n\n",
    "    V_0=np.exp(-r*T)*V_T\n",
    "    \n",
    "    return V_0"
   ]
  },
  {
   "cell_type": "code",
   "execution_count": 20,
   "metadata": {},
   "outputs": [
    {
     "data": {
      "text/plain": [
       "4.836762027800452"
      ]
     },
     "execution_count": 20,
     "metadata": {},
     "output_type": "execute_result"
    }
   ],
   "source": [
    "monte_carlo(n=200,N=2, T=2, S0=50, K=48, r=0.05, sigma=0.3, kind='put')"
   ]
  },
  {
   "cell_type": "code",
   "execution_count": 21,
   "metadata": {},
   "outputs": [],
   "source": [
    "@jit(nopython=True)\n",
    "def monte_carlo_barriere(n, N, T, S0, K, r, sigma, kind, B):\n",
    "    dt=T/N\n",
    "    dx=sigma*np.sqrt(dt)\n",
    "    \n",
    "    u=np.exp(dx)\n",
    "    d=np.exp(-dx)\n",
    "    \n",
    "    p= (np.exp(r*dt)-d)/(u-d)\n",
    "    \n",
    "    x=0\n",
    "    totale_prijs=0\n",
    "    \n",
    "    if kind=='call':\n",
    "        while x<n:\n",
    "        \n",
    "            random_array=np.random.rand(N)\n",
    "            path=[1 if el <= p else 0 for el in random_array]\n",
    "\n",
    "            S_t=S0\n",
    "            i=0\n",
    "\n",
    "            for step in path:\n",
    "                i+=1\n",
    "                S_t=S_t*u**step*d**(1-step)\n",
    "\n",
    "                # berekenen de prijs vh onderliggende op elk stapje in de tijd S_t \n",
    "                # en kijken of het groter/kleiner is dan de barriëre\n",
    "                if i<N:\n",
    "                    if S_t < B:\n",
    "                        continue\n",
    "                    else:\n",
    "                        break\n",
    "                else:\n",
    "                    eindprijs=0 if S_t > B else S_t\n",
    "                    if eindprijs !=0 :\n",
    "                        optieprijs=np.maximum(eindprijs-K,0)\n",
    "\n",
    "                        # elementen tellen uit een lijst is een 'lang' proces, daarom doen we dit alleen als \n",
    "                        # het pad daadwerkelijk meetelt\n",
    "\n",
    "                totale_prijs+=optieprijs\n",
    "            x+=1\n",
    "\n",
    "    else:\n",
    "        while x<n:\n",
    "            random_array=np.random.rand(N)\n",
    "            path=[1 if el <= p else 0 for el in random_array]\n",
    "\n",
    "            S_t=S0\n",
    "            i=0\n",
    "            for step in path:   \n",
    "                i+=1\n",
    "                #call\n",
    "                S_t=S_t*u**step*d**(1-step)                \n",
    "                if i<N:\n",
    "                    if S_t > B:\n",
    "                        continue\n",
    "                    else:\n",
    "                        break\n",
    "                else:\n",
    "                    optieprijs=K-S_t if B<S_t<K else 0\n",
    "\n",
    "                    totale_prijs+=optieprijs\n",
    "            x+=1\n",
    "    \n",
    "    V_T=totale_prijs/n\n",
    "    V_0=np.exp(-r*T)*V_T\n",
    "    \n",
    "    return V_0"
   ]
  },
  {
   "cell_type": "code",
   "execution_count": 23,
   "metadata": {
    "pixiedust": {
     "displayParams": {}
    }
   },
   "outputs": [
    {
     "data": {
      "text/plain": [
       "0.4529797082171621"
      ]
     },
     "execution_count": 23,
     "metadata": {},
     "output_type": "execute_result"
    }
   ],
   "source": [
    "monte_carlo_barriere(n=100000,N=2, T=2, S0=50, K=48, r=0.05, sigma=0.3, kind='call', B=62)"
   ]
  },
  {
   "cell_type": "code",
   "execution_count": null,
   "metadata": {},
   "outputs": [],
   "source": []
  }
 ],
 "metadata": {
  "kernelspec": {
   "display_name": "Python 3",
   "language": "python",
   "name": "python3"
  },
  "language_info": {
   "codemirror_mode": {
    "name": "ipython",
    "version": 3
   },
   "file_extension": ".py",
   "mimetype": "text/x-python",
   "name": "python",
   "nbconvert_exporter": "python",
   "pygments_lexer": "ipython3",
   "version": "3.7.1"
  }
 },
 "nbformat": 4,
 "nbformat_minor": 4
}
